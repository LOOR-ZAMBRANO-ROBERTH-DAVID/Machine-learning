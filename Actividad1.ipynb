{
 "cells": [
  {
   "cell_type": "code",
   "execution_count": 1,
   "metadata": {},
   "outputs": [],
   "source": [
    "import numpy as np"
   ]
  },
  {
   "attachments": {},
   "cell_type": "markdown",
   "metadata": {},
   "source": [
    "Se crean los datos a necesitar, en este caso el nombre y la edad y se define la cabecera y el array. Luego se imprimen los datos junto al numero de dimensiones que tiene el array para verificar que es de 4 dimensiones\n"
   ]
  },
  {
   "cell_type": "code",
   "execution_count": 114,
   "metadata": {},
   "outputs": [
    {
     "name": "stdout",
     "output_type": "stream",
     "text": [
      "[[[[(b'Roberth', 22)]\n",
      "   [(b'David', 20)]]\n",
      "\n",
      "  [[(b'Pablo', 22)]\n",
      "   [(b'Pablo', 20)]]\n",
      "\n",
      "  [[(b'Josue', 22)]\n",
      "   [(b'Maite', 20)]]]\n",
      "\n",
      "\n",
      " [[[(b'Sendon', 60)]\n",
      "   [(b'Roberth', 70)]]\n",
      "\n",
      "  [[(b'Ramon', 10)]\n",
      "   [(b'German', 35)]]\n",
      "\n",
      "  [[(b'Ruben', 27)]\n",
      "   [(b'Roberto', 45)]]]]\n",
      "Numero de dimenciones:  4\n"
     ]
    }
   ],
   "source": [
    "cabecera = [('Nombre', 'S10'), ('Edad', int)]\n",
    "datos = [[[[('Roberth', 22)], [('David', 20)]],\n",
    "          [[('Pablo', 22)], [('Pablo', 20)]],\n",
    "          [[('Josue', 22)], [('Maite', 20)]]], [\n",
    "    [[('Sendon', 60)], [('Roberth', 70)]],\n",
    "    [[('Ramon', 10)], [('German', 35)]],\n",
    "    [[('Ruben', 27)], [('Roberto', 45)]]]]\n",
    "Datos = np.array(datos, dtype=cabecera)\n",
    "print(Datos)\n",
    "print('Numero de dimensiones: ', Datos.ndim)\n"
   ]
  },
  {
   "attachments": {},
   "cell_type": "markdown",
   "metadata": {},
   "source": [
    "Luego, para ordenar los datos, esto se hace complicado al ser un array de 4 dimensiones, al menos en mi investigación se encontrarion dos formas factibles:\n",
    "\n",
    "Convertir el array de 4 dimensiones a 1 una dimensión y retornarlo de manera ordenada\n",
    "O usar la función reshape, en sort, que los ordena pero unicamente por cara, es decir, el orden es entre los dos datos pertenecientes a la misma cara, se presentan ambos ejemplos a continuación\n"
   ]
  },
  {
   "cell_type": "code",
   "execution_count": 115,
   "metadata": {},
   "outputs": [
    {
     "data": {
      "text/plain": [
       "array([(b'Ramon', 10), (b'David', 20), (b'Maite', 20), (b'Pablo', 20),\n",
       "       (b'Josue', 22), (b'Pablo', 22), (b'Roberth', 22), (b'Ruben', 27),\n",
       "       (b'German', 35), (b'Roberto', 45), (b'Sendon', 60),\n",
       "       (b'Roberth', 70)], dtype=[('Nombre', 'S10'), ('Edad', '<i4')])"
      ]
     },
     "execution_count": 115,
     "metadata": {},
     "output_type": "execute_result"
    }
   ],
   "source": [
    "datos_plano = Datos.flatten()\n",
    "datos_ordenados = np.sort(datos_plano, order='Edad')\n",
    "datos_ordenados"
   ]
  },
  {
   "cell_type": "code",
   "execution_count": 116,
   "metadata": {},
   "outputs": [
    {
     "data": {
      "text/plain": [
       "array([[(b'David', 20), (b'Roberth', 22)],\n",
       "       [(b'Pablo', 20), (b'Pablo', 22)],\n",
       "       [(b'Maite', 20), (b'Josue', 22)],\n",
       "       [(b'Sendon', 60), (b'Roberth', 70)],\n",
       "       [(b'Ramon', 10), (b'German', 35)],\n",
       "       [(b'Ruben', 27), (b'Roberto', 45)]],\n",
       "      dtype=[('Nombre', 'S10'), ('Edad', '<i4')])"
      ]
     },
     "execution_count": 116,
     "metadata": {},
     "output_type": "execute_result"
    }
   ],
   "source": [
    "datos_ordenados = np.sort(Datos.reshape(-1, len(cabecera)), order='Edad')\n",
    "datos_ordenados"
   ]
  }
 ],
 "metadata": {
  "kernelspec": {
   "display_name": "Python 3",
   "language": "python",
   "name": "python3"
  },
  "language_info": {
   "codemirror_mode": {
    "name": "ipython",
    "version": 3
   },
   "file_extension": ".py",
   "mimetype": "text/x-python",
   "name": "python",
   "nbconvert_exporter": "python",
   "pygments_lexer": "ipython3",
   "version": "3.11.1 (tags/v3.11.1:a7a450f, Dec  6 2022, 19:58:39) [MSC v.1934 64 bit (AMD64)]"
  },
  "orig_nbformat": 4,
  "vscode": {
   "interpreter": {
    "hash": "8b8edaa195e148f815789564e9a10f57d8b792ac9e1a5daafce5fbae42bebd0e"
   }
  }
 },
 "nbformat": 4,
 "nbformat_minor": 2
}
